{
 "cells": [
  {
   "cell_type": "code",
   "execution_count": 1,
   "metadata": {},
   "outputs": [
    {
     "name": "stdout",
     "output_type": "stream",
     "text": [
      "The number - 23 didn't satisfy the conditions.\n",
      "Please try again.\n",
      "The number - 45 didn't satisfy the conditions.\n",
      "Please try again.\n",
      "The number - 67 didn't satisfy the conditions.\n",
      "Sorry! You took the maximum attempt.\n"
     ]
    }
   ],
   "source": [
    "#Task 01\n",
    "\n",
    "i=0\n",
    "while i<3:\n",
    "    inputNumber=int(input(\"Enter any number : \"))\n",
    "    if inputNumber%2==0 and inputNumber>64:\n",
    "        print(\"The number - %d satisfied the conditions.\"%(inputNumber))  \n",
    "        break\n",
    "    else:\n",
    "        if i==2:\n",
    "            print(\"The number - %d didn't satisfy the conditions.\"%(inputNumber))\n",
    "            print(\"Sorry! You took the maximum attempt.\")\n",
    "        else:\n",
    "            print(\"The number - %d didn't satisfy the conditions.\"%(inputNumber))\n",
    "            print(\"Please try again.\")\n",
    "        i +=1  "
   ]
  },
  {
   "cell_type": "code",
   "execution_count": 4,
   "metadata": {},
   "outputs": [
    {
     "name": "stdout",
     "output_type": "stream",
     "text": [
      "0 will return invalid value.\n",
      "Please enter any number except 0 :\n",
      "23.00+44.00 = 67.00\n",
      "23.00-44.00 = -21.00 \n",
      "23.00*44.00 = 1012.00 \n",
      "23.00/44.00 = 0.52 \n"
     ]
    }
   ],
   "source": [
    "# Task 02\n",
    "\n",
    "num1=int(input(\"Enter the first number : \"))\n",
    "num2=int(input(\"Enter the second number : \"))\n",
    "if num2==0:\n",
    "       print(\"%d will return invalid value.\"%(num2))\n",
    "       print(\"Please enter any number except 0 :\")\n",
    "       num2=int(input(\" \"))\n",
    "\n",
    "float(num1)\n",
    "float(num2)\n",
    "\n",
    "addition=num1+num2\n",
    "subtraction=num1-num2\n",
    "multiplication=num1*num2\n",
    "division=num1/num2\n",
    "print(\"%.2f+%.2f = %.2f\"%(num1,num2,addition))\n",
    "print(\"%.2f-%.2f = %.2f \"%(num1,num2,subtraction))\n",
    "print(\"%.2f*%.2f = %.2f \"%(num1,num2,multiplication))\n",
    "print(\"%.2f/%.2f = %.2f \"%(num1,num2,division))"
   ]
  },
  {
   "cell_type": "code",
   "execution_count": 5,
   "metadata": {},
   "outputs": [
    {
     "name": "stdout",
     "output_type": "stream",
     "text": [
      "You entered a wrong password! Please try again :\n",
      "You entered a wrong password! Please try again :\n",
      "Oops!!! The door is locked.\n"
     ]
    }
   ],
   "source": [
    "# Task 03\n",
    "\n",
    "orgPassword=\"abcd@234\"\n",
    "i=0\n",
    "while i<3:\n",
    "    password=input(\"Please enter the password :\")\n",
    "    if password != orgPassword:\n",
    "        \n",
    "        if i<2:\n",
    "            print(\"You entered a wrong password! Please try again :\")\n",
    "        else:\n",
    "            print(\"Oops!!! The door is locked.\")\n",
    "        i +=1\n",
    "    else:\n",
    "        print (\"Welcom! The door is opening...\")\n",
    "        break"
   ]
  }
 ],
 "metadata": {
  "interpreter": {
   "hash": "2be5faf79681da6f2a61fdfdd5405d65d042280f7fba6178067603e3a2925119"
  },
  "kernelspec": {
   "display_name": "Python 3.10.0 64-bit",
   "language": "python",
   "name": "python3"
  },
  "language_info": {
   "codemirror_mode": {
    "name": "ipython",
    "version": 3
   },
   "file_extension": ".py",
   "mimetype": "text/x-python",
   "name": "python",
   "nbconvert_exporter": "python",
   "pygments_lexer": "ipython3",
   "version": "3.10.0"
  },
  "orig_nbformat": 4
 },
 "nbformat": 4,
 "nbformat_minor": 2
}
