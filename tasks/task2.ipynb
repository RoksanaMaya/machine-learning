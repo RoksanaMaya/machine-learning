{
 "cells": [
  {
   "cell_type": "code",
   "execution_count": 1,
   "metadata": {},
   "outputs": [
    {
     "name": "stdout",
     "output_type": "stream",
     "text": [
      "0 will return invalid value.\n",
      "Please enter any number except 0 :\n",
      "56.00+5.00 = 61.00\n",
      "56.00-5.00 = 51.00 \n",
      "56.00*5.00 = 280.00 \n",
      "56.00/5.00 = 11.20 \n"
     ]
    }
   ],
   "source": [
    "num1=int(input(\"Enter the first number : \"))\n",
    "num2=int(input(\"Enter the second number : \"))\n",
    "if num2==0:\n",
    "       print(\"%d will return invalid value.\"%(num2))\n",
    "       print(\"Please enter any number except 0 :\")\n",
    "num2=int(input(\" \"))\n",
    "float(num1)\n",
    "float(num2)\n",
    "if num1<num2:\n",
    "   num3=num1\n",
    "   num1=num2\n",
    "   num2=num3\n",
    "\n",
    "addition=num1+num2\n",
    "subtraction=num1-num2\n",
    "multiplication=num1*num2\n",
    "division=num1/num2\n",
    "print(\"%.2f+%.2f = %.2f\"%(num1,num2,addition))\n",
    "print(\"%.2f-%.2f = %.2f \"%(num1,num2,subtraction))\n",
    "print(\"%.2f*%.2f = %.2f \"%(num1,num2,multiplication))\n",
    "print(\"%.2f/%.2f = %.2f \"%(num1,num2,division))"
   ]
  }
 ],
 "metadata": {
  "interpreter": {
   "hash": "2be5faf79681da6f2a61fdfdd5405d65d042280f7fba6178067603e3a2925119"
  },
  "kernelspec": {
   "display_name": "Python 3.10.0 64-bit",
   "language": "python",
   "name": "python3"
  },
  "language_info": {
   "codemirror_mode": {
    "name": "ipython",
    "version": 3
   },
   "file_extension": ".py",
   "mimetype": "text/x-python",
   "name": "python",
   "nbconvert_exporter": "python",
   "pygments_lexer": "ipython3",
   "version": "3.10.0"
  },
  "orig_nbformat": 4
 },
 "nbformat": 4,
 "nbformat_minor": 2
}
