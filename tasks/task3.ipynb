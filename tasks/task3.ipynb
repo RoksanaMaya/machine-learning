{
 "cells": [
  {
   "cell_type": "code",
   "execution_count": 1,
   "metadata": {},
   "outputs": [
    {
     "name": "stdout",
     "output_type": "stream",
     "text": [
      "Wrong! Please try again :\n",
      "Wrong! Please try again :\n",
      "Oops!!! The door is locked.\n"
     ]
    }
   ],
   "source": [
    "orgPassword=\"abcd@234\"\n",
    "i=0\n",
    "while i<3:\n",
    "    password=input(\"Please enter the password :\")\n",
    "    if password != orgPassword:\n",
    "        \n",
    "        if i<2:\n",
    "            print(\"You entered a wrong! Please try again :\")\n",
    "        else:\n",
    "            print(\"Oops!!! The door is locked.\")\n",
    "        i +=1\n",
    "    else:\n",
    "        print (\"Welcom! The door is opening...\")\n",
    "        break"
   ]
  }
 ],
 "metadata": {
  "interpreter": {
   "hash": "2be5faf79681da6f2a61fdfdd5405d65d042280f7fba6178067603e3a2925119"
  },
  "kernelspec": {
   "display_name": "Python 3.10.0 64-bit",
   "language": "python",
   "name": "python3"
  },
  "language_info": {
   "codemirror_mode": {
    "name": "ipython",
    "version": 3
   },
   "file_extension": ".py",
   "mimetype": "text/x-python",
   "name": "python",
   "nbconvert_exporter": "python",
   "pygments_lexer": "ipython3",
   "version": "3.10.0"
  },
  "orig_nbformat": 4
 },
 "nbformat": 4,
 "nbformat_minor": 2
}
