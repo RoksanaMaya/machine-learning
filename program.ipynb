{
 "cells": [
  {
   "cell_type": "code",
   "execution_count": 8,
   "metadata": {},
   "outputs": [
    {
     "name": "stdout",
     "output_type": "stream",
     "text": [
      "Interactive Python Notebook\n"
     ]
    }
   ],
   "source": [
    "print(\"Interactive Python Notebook\")\n"
   ]
  },
  {
   "cell_type": "code",
   "execution_count": 6,
   "metadata": {},
   "outputs": [
    {
     "name": "stdout",
     "output_type": "stream",
     "text": [
      "4\n"
     ]
    }
   ],
   "source": [
    "print(1+3)"
   ]
  },
  {
   "cell_type": "code",
   "execution_count": 10,
   "metadata": {},
   "outputs": [
    {
     "data": {
      "text/plain": [
       "[2, 33, 44, 44, 6, 7, 'John', True]"
      ]
     },
     "execution_count": 10,
     "metadata": {},
     "output_type": "execute_result"
    }
   ],
   "source": [
    "## List\n",
    "r = [1,2,3,4,5,6,7,'John', True]\n",
    "## Accessing Data r[low:up:step]\n",
    "r[5]\n",
    "r[:4]\n",
    "r[4:]\n",
    "r[2:5]\n",
    "r[::3]\n",
    "r[1:5:2]\n",
    "r[::-1]\n",
    "r[-2]\n",
    "r[0] = 9\n",
    "r[3] = 44\n",
    "r[2:5] = 33,44,44\n",
    "del r[0]\n",
    "\n",
    "r\n"
   ]
  },
  {
   "cell_type": "code",
   "execution_count": 16,
   "metadata": {},
   "outputs": [
    {
     "data": {
      "text/plain": [
       "[(0, 'p'), (1, 'y'), (2, 't'), (3, 'h'), (4, 'o'), (5, 'n')]"
      ]
     },
     "execution_count": 16,
     "metadata": {},
     "output_type": "execute_result"
    }
   ],
   "source": [
    "##Enumerate\n",
    "enum=enumerate(\"python\", start=0)\n",
    "list(enum)\n",
    "\n"
   ]
  },
  {
   "cell_type": "code",
   "execution_count": 21,
   "metadata": {},
   "outputs": [
    {
     "data": {
      "text/plain": [
       "2.5"
      ]
     },
     "execution_count": 21,
     "metadata": {},
     "output_type": "execute_result"
    }
   ],
   "source": [
    "##Arithmatic Operator\n",
    "2+3\n",
    "2-3\n",
    "2*3\n",
    "5/2\n",
    "5//2 ## to return int\n",
    "2**3 ## power\n",
    "5%2 ## reminder"
   ]
  },
  {
   "cell_type": "code",
   "execution_count": 27,
   "metadata": {},
   "outputs": [
    {
     "data": {
      "text/plain": [
       "False"
      ]
     },
     "execution_count": 27,
     "metadata": {},
     "output_type": "execute_result"
    }
   ],
   "source": [
    "## Comparison operator == (Equal), !=(not equal)\n",
    "2==3\n",
    "2!=3\n",
    "2<3\n",
    "2>3\n",
    "2<=3\n",
    "2>=3"
   ]
  },
  {
   "cell_type": "code",
   "execution_count": 32,
   "metadata": {},
   "outputs": [
    {
     "data": {
      "text/plain": [
       "False"
      ]
     },
     "execution_count": 32,
     "metadata": {},
     "output_type": "execute_result"
    }
   ],
   "source": [
    "##Logical Operators and, or, not operators\n",
    "\n",
    "##and Operator\n",
    "True and True ## returns True\n",
    "True and False ## returns False\n",
    "False and True ## returns False\n",
    "False and False ## returns False\n",
    "\n",
    "## or Operator\n",
    "True or True ## returns True\n",
    "True or False ## returns True\n",
    "False or True ## returns True\n",
    "False or False ## returns False\n",
    "\n",
    "## or Operator\n",
    "not True ## returns False\n",
    "not False ## returns True\n",
    "\n",
    "#Example\n",
    "num=19\n",
    "num>18 and num%2 == 0 ## returns False\n",
    "num>18 or num%2 == 0 ## returns True\n",
    "not (num>18 or num%2 == 0) ## returns False"
   ]
  },
  {
   "cell_type": "code",
   "execution_count": 43,
   "metadata": {},
   "outputs": [
    {
     "data": {
      "text/plain": [
       "'0b1000'"
      ]
     },
     "execution_count": 43,
     "metadata": {},
     "output_type": "execute_result"
    }
   ],
   "source": [
    "## Bitwise Operator\n",
    "bin(8)"
   ]
  },
  {
   "cell_type": "code",
   "execution_count": 46,
   "metadata": {},
   "outputs": [
    {
     "data": {
      "text/plain": [
       "7"
      ]
     },
     "execution_count": 46,
     "metadata": {},
     "output_type": "execute_result"
    }
   ],
   "source": [
    "##Boolean Expression\n",
    "#5 = 101\n",
    "#2 = 010\n",
    "\n",
    "5 & 2\n",
    "5|2"
   ]
  }
 ],
 "metadata": {
  "interpreter": {
   "hash": "173ea1cde16bbd09316ad4e56cd73dbb58fa72211af99e68f81285d796d479b1"
  },
  "kernelspec": {
   "display_name": "Python 3.7.6 64-bit ('virtual_workspace': conda)",
   "language": "python",
   "name": "python3"
  },
  "language_info": {
   "codemirror_mode": {
    "name": "ipython",
    "version": 3
   },
   "file_extension": ".py",
   "mimetype": "text/x-python",
   "name": "python",
   "nbconvert_exporter": "python",
   "pygments_lexer": "ipython3",
   "version": "3.10.0"
  },
  "orig_nbformat": 4
 },
 "nbformat": 4,
 "nbformat_minor": 2
}
