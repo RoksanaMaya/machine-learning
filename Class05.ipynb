{
 "cells": [
  {
   "cell_type": "code",
   "execution_count": 4,
   "metadata": {},
   "outputs": [
    {
     "name": "stdout",
     "output_type": "stream",
     "text": [
      "Eligible for Debit Card!\n"
     ]
    }
   ],
   "source": [
    "## Conditional Statement\n",
    "age=18\n",
    "salary = 30000\n",
    "if age>=18:\n",
    "    if salary>=40000:\n",
    "        print(\"Eligible for Credit Card!\")\n",
    "    else:\n",
    "        print(\"Eligible for Debit Card!\")\n",
    "elif age<18 and age>12:\n",
    "    print(\"Eligible for Green Card!\")\n",
    "elif age<12:\n",
    "    print(\" Not eligible\")\n",
    "else:\n",
    "    print(\"Not Eligible for Debit Card\")"
   ]
  },
  {
   "cell_type": "code",
   "execution_count": 1,
   "metadata": {},
   "outputs": [
    {
     "name": "stdout",
     "output_type": "stream",
     "text": [
      "Eating....\n",
      "Eating....\n",
      "Eating....\n",
      "Eating....\n",
      "Eating....\n",
      "Eating....\n"
     ]
    }
   ],
   "source": [
    "# While Loops\n",
    "eatenCount = 0\n",
    "while eatenCount < 6:\n",
    "    print (\"Eating....\")\n",
    "    eatenCount += 1\n"
   ]
  },
  {
   "cell_type": "code",
   "execution_count": 3,
   "metadata": {},
   "outputs": [
    {
     "name": "stdout",
     "output_type": "stream",
     "text": [
      "1\n",
      "3\n",
      "5\n"
     ]
    }
   ],
   "source": [
    "start = 1\n",
    "stop = 5\n",
    "while start <= stop:\n",
    "    print(start)\n",
    "    start += 2\n"
   ]
  },
  {
   "cell_type": "code",
   "execution_count": 16,
   "metadata": {},
   "outputs": [
    {
     "name": "stdout",
     "output_type": "stream",
     "text": [
      "1\n",
      "3\n",
      "5\n",
      "6\n",
      "4\n",
      "2\n",
      "p\n",
      "y\n",
      "t\n",
      "h\n",
      "o\n",
      "n\n"
     ]
    }
   ],
   "source": [
    "# For Loop in for loop range, list, tuples will work\n",
    "list (range(1,6,2))\n",
    "\n",
    "for num in range(1,6,2):# here 1 is lowerbound, 6 is upperbound, and 2 is increment by\n",
    "    print(num)\n",
    "\n"
   ]
  },
  {
   "cell_type": "code",
   "execution_count": 18,
   "metadata": {},
   "outputs": [
    {
     "name": "stdout",
     "output_type": "stream",
     "text": [
      "6\n",
      "4\n",
      "2\n"
     ]
    }
   ],
   "source": [
    "for num in range(6,0,-2):\n",
    "    print (num)\n",
    "\n"
   ]
  },
  {
   "cell_type": "code",
   "execution_count": 20,
   "metadata": {},
   "outputs": [
    {
     "name": "stdout",
     "output_type": "stream",
     "text": [
      "2\n",
      "6\n",
      "12\n"
     ]
    }
   ],
   "source": [
    "# For Loop in for loop dictionary\n",
    "for num, sq in [(1,1),(2,4),(3,9)]:\n",
    "    print(num+sq)"
   ]
  },
  {
   "cell_type": "code",
   "execution_count": 23,
   "metadata": {},
   "outputs": [
    {
     "data": {
      "text/plain": [
       "(1, 2, 'Alexa')"
      ]
     },
     "execution_count": 23,
     "metadata": {},
     "output_type": "execute_result"
    }
   ],
   "source": [
    "# Dictionary\n",
    "(key1, val1), (key2, val2) ={1:'John', 2:\"Alexa\"}.items()\n",
    "key1, key2, val2"
   ]
  },
  {
   "cell_type": "code",
   "execution_count": 17,
   "metadata": {},
   "outputs": [
    {
     "name": "stdout",
     "output_type": "stream",
     "text": [
      "p\n",
      "y\n",
      "t\n",
      "h\n",
      "o\n",
      "n\n"
     ]
    }
   ],
   "source": [
    "for c in \"python\":\n",
    "    print (c)"
   ]
  },
  {
   "cell_type": "code",
   "execution_count": 24,
   "metadata": {},
   "outputs": [
    {
     "name": "stdout",
     "output_type": "stream",
     "text": [
      "1\n",
      "2\n",
      "3\n"
     ]
    }
   ],
   "source": [
    "# Break and Continue\n",
    "start = 1\n",
    "stop = 5\n",
    "while start <=stop:\n",
    "    print (start)\n",
    "    if start==3:\n",
    "        break\n",
    "    start +=1\n"
   ]
  }
 ],
 "metadata": {
  "interpreter": {
   "hash": "173ea1cde16bbd09316ad4e56cd73dbb58fa72211af99e68f81285d796d479b1"
  },
  "kernelspec": {
   "display_name": "Python 3.7.6 64-bit ('virtual_workspace': conda)",
   "language": "python",
   "name": "python3"
  },
  "language_info": {
   "codemirror_mode": {
    "name": "ipython",
    "version": 3
   },
   "file_extension": ".py",
   "mimetype": "text/x-python",
   "name": "python",
   "nbconvert_exporter": "python",
   "pygments_lexer": "ipython3",
   "version": "3.10.0"
  },
  "orig_nbformat": 4
 },
 "nbformat": 4,
 "nbformat_minor": 2
}
