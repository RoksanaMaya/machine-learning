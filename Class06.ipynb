{
 "cells": [
  {
   "cell_type": "code",
   "execution_count": null,
   "metadata": {},
   "outputs": [],
   "source": [
    "#Multi dimensional Array\n",
    "#Task 4-Take an integer number and print  pyramid depending on n=5\n",
    "#\n",
    "##\n",
    "###\n",
    "####\n",
    "#####"
   ]
  },
  {
   "cell_type": "code",
   "execution_count": null,
   "metadata": {},
   "outputs": [],
   "source": [
    "#Task 5 same\n",
    "#####\n",
    "####\n",
    "###\n",
    "##\n",
    "#\n"
   ]
  }
 ],
 "metadata": {
  "language_info": {
   "name": "python"
  },
  "orig_nbformat": 4
 },
 "nbformat": 4,
 "nbformat_minor": 2
}
