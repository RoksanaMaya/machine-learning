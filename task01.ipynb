{
 "cells": [
  {
   "cell_type": "code",
   "execution_count": 38,
   "metadata": {},
   "outputs": [
    {
     "name": "stdout",
     "output_type": "stream",
     "text": [
      "The number - 64 satisfied the conditions.\n"
     ]
    }
   ],
   "source": [
    "\n",
    "\n",
    "i=0\n",
    "while i<3:\n",
    "    inputNumber=int(input(\"Enter any number : \"))\n",
    "    if inputNumber%2==0 and inputNumber>=64:\n",
    "        print(\"The number - %d met the conditions.\"%(inputNumber))  \n",
    "        break\n",
    "    else:\n",
    "        if i==2:\n",
    "            print(\"Sorry! You took the maximum attempt.\")\n",
    "        else:\n",
    "            print(\"The number - %d didn't meet the conditions.\"%(inputNumber))\n",
    "            print(\"Please try again.\")\n",
    "        i +=1  "
   ]
  }
 ],
 "metadata": {
  "interpreter": {
   "hash": "2be5faf79681da6f2a61fdfdd5405d65d042280f7fba6178067603e3a2925119"
  },
  "kernelspec": {
   "display_name": "Python 3.10.0 64-bit",
   "language": "python",
   "name": "python3"
  },
  "language_info": {
   "codemirror_mode": {
    "name": "ipython",
    "version": 3
   },
   "file_extension": ".py",
   "mimetype": "text/x-python",
   "name": "python",
   "nbconvert_exporter": "python",
   "pygments_lexer": "ipython3",
   "version": "3.10.0"
  },
  "orig_nbformat": 4
 },
 "nbformat": 4,
 "nbformat_minor": 2
}
